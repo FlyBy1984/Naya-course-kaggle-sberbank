{
 "cells": [
  {
   "cell_type": "code",
   "execution_count": 11,
   "metadata": {},
   "outputs": [],
   "source": [
    "import matplotlib.pyplot as plt\n",
    "import pandas as pd\n",
    "import numpy as np\n",
    "import seaborn as sns\n",
    "from pandas import read_csv\n",
    "from sklearn.metrics import mean_squared_error as MSE\n",
    "from sklearn.ensemble import RandomForestRegressor\n",
    "from sklearn.model_selection import train_test_split\n",
    "from sklearn.metrics import confusion_matrix, classification_report, accuracy_score\n",
    "# from xgboost import XGBRegressor\n",
    "\n",
    "%matplotlib inline"
   ]
  },
  {
   "cell_type": "code",
   "execution_count": 12,
   "metadata": {},
   "outputs": [],
   "source": [
    "SB_df_orig = pd.read_csv(\"../input/sberbank_train.csv\", parse_dates=['timestamp'])\n",
    "SB_df_macro_orig = pd.read_csv(\"../input/macro.csv\", parse_dates=['timestamp'])\n",
    "\n",
    "SB_df = pd.read_csv(\"../input/sberbank_train.csv\", parse_dates=['timestamp'])\n",
    "SB_df_macro = pd.read_csv(\"../input/macro.csv\", parse_dates=['timestamp'])\n",
    "\n",
    "# add new collumns\n",
    "SB_df['year_of_sale'] = SB_df['timestamp'].apply(lambda x: x.strftime(\"%Y\"))\n",
    "SB_df_macro['year_of_sale'] = SB_df_macro['timestamp'].apply(lambda x: x.strftime(\"%Y\"))\n",
    "\n",
    "SB_df['month_of_sale_num'] = SB_df['timestamp'].apply(lambda x: x.strftime(\"%m\"))\n",
    "SB_df_macro['month_of_sale_num'] = SB_df_macro['timestamp'].apply(lambda x: x.strftime(\"%m\"))\n",
    "\n",
    "SB_df['Month_Year_of_sale_num'] = SB_df['year_of_sale'].astype(int)*100 + SB_df['month_of_sale_num'].astype(int)\n",
    "SB_df_macro['Month_Year_of_sale_num'] =  SB_df_macro['year_of_sale'].astype(int)*100 + SB_df_macro['month_of_sale_num'].astype(int)\n",
    "\n",
    "SB_df_numeric = SB_df.select_dtypes(include=['float64', 'int64'])\n",
    "SB_df_macro_numeric = SB_df_macro.select_dtypes(include=['float64', 'int64'])"
   ]
  },
  {
   "cell_type": "code",
   "execution_count": 13,
   "metadata": {},
   "outputs": [],
   "source": [
    "SB_df_numeric_not_null = SB_df_numeric.fillna(0)\n",
    "SB_df_macro_numeric_not_null = SB_df_macro_numeric.fillna(0)\n",
    "\n",
    "# SB_joined_df = pd.merge(SB_df_numeric_not_null, SB_df_macro_numeric_not_null, left_on='Month_Year_of_sale_num', right_on='Month_Year_of_sale_num')"
   ]
  },
  {
   "cell_type": "code",
   "execution_count": 14,
   "metadata": {},
   "outputs": [],
   "source": [
    "# max_depth=20, \n",
    "regr = RandomForestRegressor(max_depth=30, random_state=0, n_estimators  = 500)\n",
    "\n",
    "X_des = SB_df_numeric_not_null.astype(np.float64)\n",
    "y_des = X_des['price_doc']\n",
    "\n",
    "Xy_train, Xy_test = train_test_split(X_des, train_size=0.7, \n",
    "                            random_state=7)\n",
    "\n",
    "X_des = X_des.drop('price_doc', axis=1)\n",
    "\n",
    "X_train, X_test, y_train, y_test = train_test_split(X_des,y_des, train_size=0.7, \n",
    "                            random_state=7)"
   ]
  },
  {
   "cell_type": "code",
   "execution_count": null,
   "metadata": {},
   "outputs": [],
   "source": [
    "# (type(set(X_train.columns)))"
   ]
  },
  {
   "cell_type": "code",
   "execution_count": 15,
   "metadata": {},
   "outputs": [
    {
     "data": {
      "text/plain": [
       "RandomForestRegressor(bootstrap=True, criterion='mse', max_depth=30,\n",
       "           max_features='auto', max_leaf_nodes=None,\n",
       "           min_impurity_decrease=0.0, min_impurity_split=None,\n",
       "           min_samples_leaf=1, min_samples_split=2,\n",
       "           min_weight_fraction_leaf=0.0, n_estimators=500, n_jobs=1,\n",
       "           oob_score=False, random_state=0, verbose=0, warm_start=False)"
      ]
     },
     "execution_count": 15,
     "metadata": {},
     "output_type": "execute_result"
    }
   ],
   "source": [
    "regr.fit(X_train, y_train)"
   ]
  },
  {
   "cell_type": "code",
   "execution_count": 16,
   "metadata": {},
   "outputs": [],
   "source": [
    "Xy_train['pred_price_doc'] = regr.predict(X_train).astype(long)\n",
    "Xy_test['pred_price_doc'] = regr.predict(X_test).astype(long)"
   ]
  },
  {
   "cell_type": "code",
   "execution_count": 17,
   "metadata": {},
   "outputs": [
    {
     "name": "stdout",
     "output_type": "stream",
     "text": [
      "RMSE = 1036725.87\n"
     ]
    }
   ],
   "source": [
    "all_rmse = np.sqrt(MSE(Xy_train['price_doc'],\n",
    "                       Xy_train['pred_price_doc']))\n",
    "print \"RMSE = {:.2f}\".format(all_rmse)"
   ]
  },
  {
   "cell_type": "code",
   "execution_count": 18,
   "metadata": {},
   "outputs": [
    {
     "name": "stdout",
     "output_type": "stream",
     "text": [
      "RMSE = 2545517.61\n"
     ]
    }
   ],
   "source": [
    "all_rmse = np.sqrt(MSE(Xy_test['price_doc'],\n",
    "                       Xy_test['pred_price_doc']))\n",
    "print \"RMSE = {:.2f}\".format(all_rmse)"
   ]
  },
  {
   "cell_type": "code",
   "execution_count": 19,
   "metadata": {},
   "outputs": [],
   "source": [
    "# start loading real test data\n",
    "\n",
    "SB_TEST_df = pd.read_csv(\"../input/sberbank_test.csv\", parse_dates=['timestamp'])\n",
    "\n",
    "# add new collumns\n",
    "SB_TEST_df['year_of_sale'] = SB_TEST_df['timestamp'].apply(lambda x: x.strftime(\"%Y\"))\n",
    "\n",
    "SB_TEST_df['month_of_sale_num'] = SB_TEST_df['timestamp'].apply(lambda x: x.strftime(\"%m\"))\n",
    "\n",
    "SB_TEST_df['Month_Year_of_sale_num'] = SB_TEST_df['year_of_sale'].astype(int)*100 + SB_TEST_df['month_of_sale_num'].astype(int)\n",
    "\n",
    "SB_TEST_df_numeric = SB_TEST_df.select_dtypes(include=['float64', 'int64'])\n",
    "\n",
    "SB_TEST_df_numeric_not_null = SB_TEST_df_numeric.fillna(0)\n",
    "\n",
    "# x = SB_TEST_df_numeric_not_null.copy()\n",
    "\n",
    "# set(SB_TEST_df_numeric_not_null.columns) - set(X_train.columns)\n",
    "\n",
    "# X_train['Month_Year_of_sale_num']\n",
    "\n",
    "SB_TEST_df_numeric_not_null['price_doc'] = regr.predict(SB_TEST_df_numeric_not_null).astype(long)\n",
    "\n",
    "final_sub = SB_TEST_df_numeric_not_null[['id', 'price_doc']]\n",
    "# .set_index('id')\n",
    "\n",
    "final_sub.to_csv('slav_sub.csv', index=False)"
   ]
  }
 ],
 "metadata": {
  "kernelspec": {
   "display_name": "Python 2",
   "language": "python",
   "name": "python2"
  },
  "language_info": {
   "codemirror_mode": {
    "name": "ipython",
    "version": 2
   },
   "file_extension": ".py",
   "mimetype": "text/x-python",
   "name": "python",
   "nbconvert_exporter": "python",
   "pygments_lexer": "ipython2",
   "version": "2.7.14"
  }
 },
 "nbformat": 4,
 "nbformat_minor": 2
}
